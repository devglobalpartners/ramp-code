{
 "cells": [
  {
   "cell_type": "markdown",
   "metadata": {},
   "source": [
    "# Running a deep learning pipeline with the `solaris` CLI\n",
    "\n",
    "Running a full ML pipeline with `solaris` only takes a single line of code! After [installing solaris](../../installation.rst), all you need to do is [set up your YAML config file](creating_the_yaml_config_file.ipynb). Then, run the following line from a command prompt:\n",
    "\n",
    "```console\n",
    "$ solaris_run_ml [path_to_your_config]\n",
    "```\n",
    "\n",
    "You can try it now! [Download the config file for XD_XD's SpaceNet 4 Model](https://github.com/CosmiQ/solaris/blob/dev/solaris/nets/configs/xdxd_spacenet4.yml), point it to your data, and then run:\n",
    "\n",
    "```console\n",
    "$ solaris_run_ml xdxd_spacenet4.yml\n",
    "```\n",
    "\n",
    "That's all there is to it!"
   ]
  }
 ],
 "metadata": {
  "kernelspec": {
   "display_name": "solaris",
   "language": "python",
   "name": "solaris"
  },
  "language_info": {
   "codemirror_mode": {
    "name": "ipython",
    "version": 3
   },
   "file_extension": ".py",
   "mimetype": "text/x-python",
   "name": "python",
   "nbconvert_exporter": "python",
   "pygments_lexer": "ipython3",
   "version": "3.6.7"
  }
 },
 "nbformat": 4,
 "nbformat_minor": 2
}
