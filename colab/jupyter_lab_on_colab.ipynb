{
 "cells": [
  {
   "cell_type": "markdown",
   "metadata": {},
   "source": [
    "# Running ramp code using Jupyter Lab with Google Colab"
   ]
  },
  {
   "cell_type": "markdown",
   "metadata": {},
   "source": [
    "Running Jupyter Lab from within Google Colab enables us to run not only Jupyter notebooks, but the complete suite of Ramp tools on Colab. \n",
    "\n",
    "I recommend reading the following article about how it works, using an ssh-based technology called 'reverse tunneling', before getting started: https://zerowithdot.com/jupyter-lab-colab/\n",
    "\n",
    "The instructions below will get you up and running."
   ]
  },
  {
   "cell_type": "markdown",
   "metadata": {},
   "source": [
    "### Step 1: Navigate to [the Colab website](https://colab.research.google.com/), and open this notebook file in Colab.\n",
    "\n",
    "In the Colab window, Click on File > 'Notebook upload'.\n",
    "\n",
    "If you are reading this in Colab, congratulations! You're already here.\n",
    "\n",
    "## About running ramp on Colab\n",
    "\n",
    "When you are working on the Colab site, you will be connected to a remote computer (called a 'remote host') via the internet. This remote computer will be equipped with GPUs, and has everything you need to run ramp. So there are two computers involved in your colab setup; the remote host, and the 'local host' -- that is, your own computer. \n",
    "\n",
    "Your own computer may be a PC, or Linux, or Mac computer - whatever you like. It doesn't need any fancy hardware like GPUs, either; the fancy hardware is all on the remote host.\n",
    "\n",
    "There are two downsides to running ramp on Colab:\n",
    "\n",
    "**Downside 1**. Colab will automatically time you out after a certain period of inactivity, and disconnect you from your server. If that happens, you will have to start many of these steps over again, and any files you have created that aren't saved on your Google Drive will be lost.  \n",
    "**Downside 2**. The remote host accesses files that are located on your personal Google drive. The hardware hosting your personal Google Drive may be located on a different continent from the remote host! Therefore, when you first start up your training session on a fresh remote host, you may find things starting up very slowly.  \n",
    "\n",
    "Now, let's get going.\n",
    "\n",
    "## Once inside Colab, begin running the code windows below. "
   ]
  },
  {
   "cell_type": "markdown",
   "metadata": {},
   "source": [
    "### Step 2: Install jupyterlab on your Colab instance."
   ]
  },
  {
   "cell_type": "code",
   "execution_count": null,
   "metadata": {
    "id": "atyHXvqLPsS0",
    "tags": []
   },
   "outputs": [],
   "source": [
    "!pip install -q jupyterlab"
   ]
  },
  {
   "cell_type": "markdown",
   "metadata": {},
   "source": [
    "### Step 3: Start SSH running for this Colab session\n",
    "\n",
    "The remote host needs to know that it is safe to execute instructions that are coming from the local host. In order to do that, we'll use a secure network protocol called \"SSH\". The next few steps are needed to set up your SSH connection. \n",
    "\n",
    "The next call to ssh-keygen generates a 'private key' and writes it on the remote host. This call will request user input: the default values are okay (i.e., just press return)."
   ]
  },
  {
   "cell_type": "code",
   "execution_count": null,
   "metadata": {
    "id": "zq_dNNKZVZKP"
   },
   "outputs": [],
   "source": [
    "!ssh-keygen -t rsa -C \"Colab Key\""
   ]
  },
  {
   "cell_type": "markdown",
   "metadata": {},
   "source": [
    "This call to 'ssh-agent' starts an in-memory process that handles all the requests for authorization. \n",
    "\n",
    "[This website](https://smallstep.com/blog/ssh-agent-explained/) explains ssh-agent, if you'd like to know more.\n",
    "\n",
    "ssh-add will add your information to the running instance of ssh-agent. After that, you won't need to type your password anymore (for this colab session!)."
   ]
  },
  {
   "cell_type": "code",
   "execution_count": null,
   "metadata": {
    "id": "HNx_pl4GW6tW"
   },
   "outputs": [],
   "source": [
    "%%bash\n",
    "eval $(ssh-agent)\n",
    "ssh-add"
   ]
  },
  {
   "cell_type": "markdown",
   "metadata": {},
   "source": [
    "### Step 4: Mount your Google drive for persistent storage of data and models.\n",
    "\n",
    "You'll be running all the ramp code on the remote host, so any data that is stored on the remote host will be lost when Google shuts down the remote host. \n",
    "\n",
    "Fortunately, there is permanent storage in the cloud associated with every Google account! Since Colab is also a Google service, you can save data on your Google drive and read it very easily from Colab. \n",
    "\n",
    "This call will make your personal Google drive accessible to the remote host. It will ask you to authenticate by logging in with a google account. "
   ]
  },
  {
   "cell_type": "code",
   "execution_count": null,
   "metadata": {
    "id": "AoFMqC0AbsJY"
   },
   "outputs": [],
   "source": [
    "from google.colab import drive\n",
    "drive.mount('/content/drive')"
   ]
  },
  {
   "cell_type": "markdown",
   "metadata": {},
   "source": [
    "### Step 5: Start running Jupyter Lab in your own browser from within Colab.\n",
    "\n",
    "This command actually has two separate steps, which are connected by '&'.\n",
    "\n",
    "The first command starts Jupyter Lab running on the remote host. That's the easy part. \n",
    "\n",
    "The second part sets up 'reverse tunneling', which allows two-way interaction between the remote and the local host. \n",
    "\n",
    "This command will output a lot of text, including links to the Jupyter Lab session you started. It will continue to execute during your entire Jupyter Lab session.\n",
    "\n",
    "There are two pieces of output that you need to access your Jupyter Lab session. The first piece you will need is a link of the form *something.lhrtunnel.link*, as shown below. It may appear at any point within the rest of the output from this command.\n",
    "\n",
    "```\n",
    "xyzxyzxyzxyz.lhrtunnel.link tunneled with tls termination, https://xyzxyzxyzxyz.lhrtunnel.link\n",
    "\n",
    "```\n",
    "\n",
    "Copy this link from the output, and paste it into your browser. You will see a login to a JupyterLab session: you are almost there!\n",
    "\n",
    "The second piece of output you'll need is in a different part of the output stream from this call: it looks like this:\n",
    "\n",
    "```\n",
    "To access the server, open this file in a browser:\n",
    "        file:///root/.local/share/jupyter/runtime/jpserver-344-open.html\n",
    "    Or copy and paste one of these URLs:\n",
    "        http://7a55ff206e0f:9090/lab?token=xyz123xyz123xyz123xyz123xyz123xyz123xyz123\n",
    "     or http://127.0.0.1:9090/lab?token=xyz123xyz123xyz123xyz123xyz123xyz123xyz123\n",
    "```\n",
    "\n",
    "You will need to copy the gibberish that follows the 'token=' portion of those links, and paste it into the JupyterLab page as your password. \n",
    "\n",
    "At that point you'll be inside your JupyterLab session! But there will be more to do to get set up for ramp once you're inside, so now go back to the Colab README file. "
   ]
  },
  {
   "cell_type": "code",
   "execution_count": null,
   "metadata": {
    "id": "yrqK66uCYQpF"
   },
   "outputs": [],
   "source": [
    "!jupyter lab --ip=0.0.0.0 --port=9090 --allow-root & ssh -o StrictHostKeyChecking=no -R 80:localhost:9090 ssh.localhost.run"
   ]
  },
  {
   "cell_type": "code",
   "execution_count": null,
   "metadata": {
    "id": "SAy6WyVFX16g"
   },
   "outputs": [],
   "source": []
  }
 ],
 "metadata": {
  "accelerator": "GPU",
  "colab": {
   "name": "2021-05-10_run-vscode-and-jupyterlab-on-colab.ipynb",
   "private_outputs": true,
   "provenance": []
  },
  "gpuClass": "standard",
  "kernelspec": {
   "display_name": "Python 3",
   "language": "python",
   "name": "python3"
  },
  "language_info": {
   "codemirror_mode": {
    "name": "ipython",
    "version": 3
   },
   "file_extension": ".py",
   "mimetype": "text/x-python",
   "name": "python",
   "nbconvert_exporter": "python",
   "pygments_lexer": "ipython3",
   "version": "3.7.13"
  },
  "vscode": {
   "interpreter": {
    "hash": "31f2aee4e71d21fbe5cf8b01ff0e069b9275f58929596ceb00d14d90e3e16cd6"
   }
  }
 },
 "nbformat": 4,
 "nbformat_minor": 4
}
