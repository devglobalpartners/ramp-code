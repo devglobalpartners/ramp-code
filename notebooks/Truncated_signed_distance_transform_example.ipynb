{
 "cells": [
  {
   "cell_type": "markdown",
   "id": "546d0e0b",
   "metadata": {},
   "source": [
    "### Test of Modified Signed Distance Transform code on toy example\n",
    "\n",
    "The Modified Truncated SDT treats boundaries between contiguous buildings correctly. This notebook demonstrates the difference between the modified and unmodified Truncated Signed Distance Transform.\n",
    "\n",
    "A toy shapefile has been created with two buildings in it that have abutting edges, as shown below. The buildings do not overlap.\n",
    "\n",
    "![toy_buildings](images/2_abutting_buildings.png)\n",
    "\n",
    "The regular Truncated SDT treats these as a single building, as shown in the first graphic output below.\n",
    "\n",
    "The Modified Truncated SDT treats these as two independent buildings, as shown in the second graphic. "
   ]
  },
  {
   "cell_type": "code",
   "execution_count": null,
   "id": "2581e225",
   "metadata": {},
   "outputs": [],
   "source": [
    "%matplotlib inline"
   ]
  },
  {
   "cell_type": "code",
   "execution_count": null,
   "id": "b42877de",
   "metadata": {},
   "outputs": [],
   "source": [
    "import numpy as np\n",
    "import matplotlib.pyplot as plt\n",
    "from osgeo import ogr, gdal"
   ]
  },
  {
   "cell_type": "code",
   "execution_count": null,
   "id": "05c24496",
   "metadata": {},
   "outputs": [],
   "source": [
    "from ramp.utils.img_utils import gdal_write_mask_tensor\n",
    "from ramp.utils.sdt_mask_utils import GetTruncatedSDT, QuantizeSDT, CreateModifiedSDTMask"
   ]
  },
  {
   "cell_type": "code",
   "execution_count": null,
   "id": "dbb01a7c",
   "metadata": {},
   "outputs": [],
   "source": [
    "# TEST SDT code\n",
    "\n",
    "import os\n",
    "\n",
    "img_file = 'sample-data/sdt_example/test_img.tif'\n",
    "shp_file = 'sample-data/sdt_example/test_sdt.shp'\n",
    "\n",
    "drv = ogr.GetDriverByName('ESRI Shapefile')\n",
    "ogr_ds = drv.Open(shp_file)\n",
    "lyr = ogr_ds.GetLayer()\n",
    "\n",
    "src_ds = gdal.Open(img_file)"
   ]
  },
  {
   "cell_type": "code",
   "execution_count": null,
   "id": "c88fb5c5",
   "metadata": {},
   "outputs": [],
   "source": [
    "# run 'classic truncated SDT'\n",
    "\n",
    "the_sdt = QuantizeSDT(GetTruncatedSDT(lyr, src_ds, 0.3, [-3,3]))\n",
    "print(the_sdt.dtype)\n",
    "plt.imshow(the_sdt)"
   ]
  },
  {
   "cell_type": "code",
   "execution_count": null,
   "id": "0a99a5df",
   "metadata": {},
   "outputs": [],
   "source": [
    "# run 'modified truncated SDT'\n",
    "\n",
    "new_sdt = CreateModifiedSDTMask(lyr, src_ds, 0.3, [-3,3])\n",
    "plt.imshow(new_sdt)"
   ]
  },
  {
   "cell_type": "markdown",
   "id": "68bdff6a",
   "metadata": {},
   "source": [
    "##### Created for ramp project, August 2022\n",
    "##### Author: carolyn.johnston@dev.global"
   ]
  }
 ],
 "metadata": {
  "kernelspec": {
   "display_name": "Python 3.8.10 64-bit",
   "language": "python",
   "name": "python3"
  },
  "language_info": {
   "codemirror_mode": {
    "name": "ipython",
    "version": 3
   },
   "file_extension": ".py",
   "mimetype": "text/x-python",
   "name": "python",
   "nbconvert_exporter": "python",
   "pygments_lexer": "ipython3",
   "version": "3.8.10"
  },
  "vscode": {
   "interpreter": {
    "hash": "31f2aee4e71d21fbe5cf8b01ff0e069b9275f58929596ceb00d14d90e3e16cd6"
   }
  }
 },
 "nbformat": 4,
 "nbformat_minor": 5
}
