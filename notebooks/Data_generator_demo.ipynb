{
 "cells": [
  {
   "cell_type": "markdown",
   "metadata": {},
   "source": [
    "# Data generator demonstration\n",
    "\n",
    "This demonstrates the function of data generators (which feed training data to the ramp model during training), with and without augmentation and loss function weighting."
   ]
  },
  {
   "cell_type": "code",
   "execution_count": null,
   "metadata": {},
   "outputs": [],
   "source": [
    "%matplotlib inline"
   ]
  },
  {
   "cell_type": "code",
   "execution_count": null,
   "metadata": {},
   "outputs": [],
   "source": [
    "import tensorflow as tf \n",
    "import os\n",
    "os.environ['TF_CPP_MIN_LOG_LEVEL'] = '3' # only print errors\n",
    "import numpy as np\n",
    "import matplotlib.pyplot as plt"
   ]
  },
  {
   "cell_type": "code",
   "execution_count": null,
   "metadata": {},
   "outputs": [],
   "source": [
    "# set up logging\n",
    "import logging\n",
    "logging.basicConfig(level = logging.INFO)"
   ]
  },
  {
   "cell_type": "code",
   "execution_count": null,
   "metadata": {},
   "outputs": [],
   "source": [
    "import sys\n",
    "RAMP_HOME = os.environ[\"RAMP_HOME\"]\n",
    "from ramp.data_mgmt.data_generator import training_batches_from_gtiff_dirs, add_class_weights"
   ]
  },
  {
   "cell_type": "code",
   "execution_count": null,
   "metadata": {},
   "outputs": [],
   "source": [
    "train_base = os.path.join(RAMP_HOME, 'ramp-code/notebooks/sample-data/training_data')\n",
    "image_dir = os.path.join(train_base, \"chips\")\n",
    "mask_dir = os.path.join(train_base, \"multimasks\")\n",
    "batch_size = 16\n",
    "input_image_size = (256,256)\n",
    "output_image_size = (256,256)"
   ]
  },
  {
   "cell_type": "markdown",
   "metadata": {},
   "source": [
    "### Demonstration with class weights for weighting loss function"
   ]
  },
  {
   "cell_type": "code",
   "execution_count": null,
   "metadata": {},
   "outputs": [],
   "source": [
    "train_batches_wts = training_batches_from_gtiff_dirs(image_dir, \n",
    "                                                 mask_dir, \n",
    "                                                 batch_size, \n",
    "                                                 input_image_size, \n",
    "                                                 output_image_size)"
   ]
  },
  {
   "cell_type": "code",
   "execution_count": null,
   "metadata": {},
   "outputs": [],
   "source": [
    "def visualize_all(image, mask, weights=None):\n",
    "    fontsize = 18\n",
    "    \n",
    "    if weights is None:\n",
    "        f, ax = plt.subplots(1, 2, figsize=(8, 8))\n",
    "\n",
    "        ax[0].imshow(image)\n",
    "        ax[0].set_title('image', fontsize=fontsize)\n",
    "        ax[1].imshow(mask)\n",
    "        ax[1].set_title('label', fontsize=fontsize)\n",
    "    else:\n",
    "        f, ax = plt.subplots(1,3, figsize=(8, 8))\n",
    "\n",
    "        ax[0].imshow(image)\n",
    "        ax[0].set_title('image', fontsize=fontsize)\n",
    "        \n",
    "        ax[1].imshow(mask)\n",
    "        ax[1].set_title('label', fontsize=fontsize)\n",
    "\n",
    "        ax[2].imshow(weights)\n",
    "        ax[2].set_title('class weight mask', fontsize=fontsize)"
   ]
  },
  {
   "cell_type": "code",
   "execution_count": null,
   "metadata": {},
   "outputs": [],
   "source": [
    "class_weights = tf.constant([1.0, 1.0, 2.0, 2.0])\n",
    "iterator_wts = iter(train_batches_wts.map(lambda chip, label: add_class_weights(chip, label, class_weights)))\n",
    "batch = iterator_wts.get_next()"
   ]
  },
  {
   "cell_type": "code",
   "execution_count": null,
   "metadata": {},
   "outputs": [],
   "source": [
    "# batch has length 3: image, mask, class weights\n",
    "len(batch)"
   ]
  },
  {
   "cell_type": "code",
   "execution_count": null,
   "metadata": {},
   "outputs": [],
   "source": [
    "for item in batch:\n",
    "    print(item.shape)"
   ]
  },
  {
   "cell_type": "code",
   "execution_count": null,
   "metadata": {},
   "outputs": [],
   "source": [
    "for ii in range(batch_size):\n",
    "    image = batch[0][ii,:,:,:]\n",
    "    mask = batch[1][ii,:,:,:]\n",
    "    wts = batch[2][ii,:,:,:]\n",
    "    visualize_all(image, mask, wts)"
   ]
  },
  {
   "cell_type": "markdown",
   "metadata": {},
   "source": [
    "### Demonstration with augmentation"
   ]
  },
  {
   "cell_type": "code",
   "execution_count": null,
   "metadata": {},
   "outputs": [],
   "source": [
    "import albumentations as A\n",
    "from cv2 import BORDER_CONSTANT, INTER_NEAREST\n",
    "\n",
    "aug = A.Compose([\n",
    "                A.Rotate(\n",
    "                    border_mode=BORDER_CONSTANT, \n",
    "                    interpolation=INTER_NEAREST, \n",
    "                    value=(0.0,0.0,0.0), \n",
    "                    mask_value = 0, \n",
    "                    p=0.9),\n",
    "                A.RandomBrightnessContrast(brightness_limit=0.2, \n",
    "                    contrast_limit=0.2, \n",
    "                    brightness_by_max=True, \n",
    "                    p=0.9)\n",
    "        ])"
   ]
  },
  {
   "cell_type": "code",
   "execution_count": null,
   "metadata": {},
   "outputs": [],
   "source": [
    "# note addition of augmentation transform parameter\n",
    "train_batches_aug = training_batches_from_gtiff_dirs(image_dir, \n",
    "                                                 mask_dir, \n",
    "                                                 batch_size, \n",
    "                                                 input_image_size, \n",
    "                                                 output_image_size, \n",
    "                                                 aug)"
   ]
  },
  {
   "cell_type": "code",
   "execution_count": null,
   "metadata": {},
   "outputs": [],
   "source": [
    "iterator_aug = iter(train_batches_aug)\n",
    "batch = iterator_aug.get_next()\n",
    "len(batch)"
   ]
  },
  {
   "cell_type": "code",
   "execution_count": null,
   "metadata": {},
   "outputs": [],
   "source": [
    "for ii in range(batch_size):\n",
    "    image = batch[0][ii,:,:,:]\n",
    "    mask = batch[1][ii,:,:,:]\n",
    "    visualize_all(image, mask)"
   ]
  },
  {
   "cell_type": "markdown",
   "metadata": {},
   "source": [
    "### Demonstrate simultaneous augmentation and class weighting."
   ]
  },
  {
   "cell_type": "code",
   "execution_count": null,
   "metadata": {},
   "outputs": [],
   "source": [
    "train_batches_aug = training_batches_from_gtiff_dirs(image_dir, \n",
    "                                                 mask_dir, \n",
    "                                                 batch_size, \n",
    "                                                 input_image_size, \n",
    "                                                 output_image_size, \n",
    "                                                 aug)\n",
    "\n",
    "iterator_aug_wts = iter(train_batches_aug.map(lambda chip, label: add_class_weights(chip, label, class_weights)))\n",
    "batch = iterator_aug_wts.get_next()\n",
    "len(batch)"
   ]
  },
  {
   "cell_type": "code",
   "execution_count": null,
   "metadata": {},
   "outputs": [],
   "source": [
    "for ii in range(batch_size):\n",
    "    image = batch[0][ii,:,:,:]\n",
    "    mask = batch[1][ii,:,:,:]\n",
    "    wts = batch[2][ii,:,:,:]\n",
    "    visualize_all(image, mask, wts)"
   ]
  },
  {
   "cell_type": "markdown",
   "metadata": {},
   "source": [
    "##### Created for ramp project, August 2022\n",
    "##### Author: carolyn.johnston@dev.global"
   ]
  }
 ],
 "metadata": {
  "kernelspec": {
   "display_name": "Python 3.8.10 64-bit",
   "language": "python",
   "name": "python3"
  },
  "language_info": {
   "codemirror_mode": {
    "name": "ipython",
    "version": 3
   },
   "file_extension": ".py",
   "mimetype": "text/x-python",
   "name": "python",
   "nbconvert_exporter": "python",
   "pygments_lexer": "ipython3",
   "version": "3.8.10"
  },
  "orig_nbformat": 4,
  "vscode": {
   "interpreter": {
    "hash": "31f2aee4e71d21fbe5cf8b01ff0e069b9275f58929596ceb00d14d90e3e16cd6"
   }
  }
 },
 "nbformat": 4,
 "nbformat_minor": 2
}
